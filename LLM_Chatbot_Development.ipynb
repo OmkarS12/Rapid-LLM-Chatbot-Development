{
  "nbformat": 4,
  "nbformat_minor": 0,
  "metadata": {
    "colab": {
      "provenance": [],
      "authorship_tag": "ABX9TyPxhtaHgZk9NIhm3a1Wt6SC",
      "include_colab_link": true
    },
    "kernelspec": {
      "name": "python3",
      "display_name": "Python 3"
    },
    "language_info": {
      "name": "python"
    }
  },
  "cells": [
    {
      "cell_type": "markdown",
      "metadata": {
        "id": "view-in-github",
        "colab_type": "text"
      },
      "source": [
        "<a href=\"https://colab.research.google.com/github/OmkarS12/EAI-6980-Rapid-LLM-Chatbot-Development/blob/main/LLM_Chatbot_Development.ipynb\" target=\"_parent\"><img src=\"https://colab.research.google.com/assets/colab-badge.svg\" alt=\"Open In Colab\"/></a>"
      ]
    },
    {
      "cell_type": "code",
      "execution_count": null,
      "metadata": {
        "id": "Muc0QqeAvAYN"
      },
      "outputs": [],
      "source": [
        "#LLM Chatbot Development"
      ]
    }
  ]
}